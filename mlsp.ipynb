{
 "cells": [
  {
   "cell_type": "code",
   "execution_count": null,
   "metadata": {
    "collapsed": true
   },
   "outputs": [],
   "source": [
    "import numpy as np\n",
    "import pandas as pd\n",
    "from sklearn.decomposition import PCA\n",
    "from sklearn import svm"
   ]
  },
  {
   "cell_type": "code",
   "execution_count": null,
   "metadata": {
    "collapsed": true
   },
   "outputs": [],
   "source": [
    "a = pd.read_csv(\"train/train_FNC.csv\" )\n",
    "b = pd.read_csv(\"train/train_SBM.csv\")\n",
    "c = pd.read_csv(\"train/train_labels.csv\")\n",
    "my_data = a.merge(b, on='Id')\n",
    "my_data = my_data.merge(c, on ='Id')"
   ]
  },
  {
   "cell_type": "code",
   "execution_count": null,
   "metadata": {
    "collapsed": true
   },
   "outputs": [],
   "source": [
    "a = pd.read_csv(\"test/test_FNC.csv\" )\n",
    "b = pd.read_csv(\"test/test_SBM.csv\")\n",
    "final_data = a.merge(b, on='Id')"
   ]
  },
  {
   "cell_type": "code",
   "execution_count": null,
   "metadata": {
    "collapsed": true
   },
   "outputs": [],
   "source": [
    "def removeColumns(pandasArray, *column):\n",
    "    return pandasArray.drop(pandasArray.columns[[column]],axis = 1).values"
   ]
  },
  {
   "cell_type": "code",
   "execution_count": null,
   "metadata": {},
   "outputs": [],
   "source": [
    "print(my_data)"
   ]
  },
  {
   "cell_type": "code",
   "execution_count": null,
   "metadata": {},
   "outputs": [],
   "source": [
    "new_data = removeColumns(my_data,0,-1)\n",
    "print(new_data)\n",
    "print(new_data.shape)"
   ]
  },
  {
   "cell_type": "code",
   "execution_count": null,
   "metadata": {
    "collapsed": true
   },
   "outputs": [],
   "source": [
    "def targetAndtargetNames(numpyArray, targetColumnIndex):\n",
    "    target_dict = dict()\n",
    "    target = list()\n",
    "    target_names = list()\n",
    "    count = -1\n",
    "    for i in range(len(my_data.values)):\n",
    "        if my_data.values[i][targetColumnIndex] not in target_dict:\n",
    "            target_dict[my_data.values[i][targetColumnIndex]] = int(my_data.values[i][-1])\n",
    "        target.append(target_dict[my_data.values[i][targetColumnIndex]])\n",
    "    # Since a dictionary is not ordered, we need to order it and output it to a list so the\n",
    "    # target names will match the target.\n",
    "    print(target_dict)\n",
    "    return target"
   ]
  },
  {
   "cell_type": "code",
   "execution_count": null,
   "metadata": {},
   "outputs": [],
   "source": [
    " target = targetAndtargetNames(my_data,0)"
   ]
  },
  {
   "cell_type": "code",
   "execution_count": null,
   "metadata": {},
   "outputs": [],
   "source": [
    "print(target)"
   ]
  },
  {
   "cell_type": "code",
   "execution_count": null,
   "metadata": {
    "collapsed": true
   },
   "outputs": [],
   "source": [
    "pca = PCA(n_components = 86)\n",
    "new_data1 = pca.fit(new_data).transform(new_data)"
   ]
  },
  {
   "cell_type": "code",
   "execution_count": null,
   "metadata": {},
   "outputs": [],
   "source": [
    "print(new_data1)\n",
    "print(new_data1.shape)"
   ]
  },
  {
   "cell_type": "code",
   "execution_count": null,
   "metadata": {},
   "outputs": [],
   "source": [
    "clf = svm.SVC()\n",
    "clf.fit(new_data1, target)  "
   ]
  },
  {
   "cell_type": "code",
   "execution_count": null,
   "metadata": {},
   "outputs": [],
   "source": [
    "final_data1 = removeColumns(final_data,0)\n",
    "print(final_data1)\n",
    "print(final_data1.shape)"
   ]
  },
  {
   "cell_type": "code",
   "execution_count": null,
   "metadata": {},
   "outputs": [],
   "source": [
    "pca = PCA(n_components = 86)\n",
    "final_data2 = pca.fit(final_data1).transform(final_data1)\n",
    "print(final_data2.shape)"
   ]
  },
  {
   "cell_type": "code",
   "execution_count": null,
   "metadata": {},
   "outputs": [],
   "source": [
    "predict = clf.predict(final_data2)\n",
    "print(predict.shape)"
   ]
  },
  {
   "cell_type": "code",
   "execution_count": null,
   "metadata": {},
   "outputs": [],
   "source": [
    "print(type(final_data.Id))\n",
    "result = pd.DataFrame({'Id' : list(final_data.Id), 'Probability' : list(predict)})\n",
    "print(result)\n",
    "result.to_csv('resultprediction.csv',index = False)"
   ]
  }
 ],
 "metadata": {
  "kernelspec": {
   "display_name": "Python 3",
   "language": "python",
   "name": "python3"
  },
  "language_info": {
   "codemirror_mode": {
    "name": "ipython",
    "version": 3
   },
   "file_extension": ".py",
   "mimetype": "text/x-python",
   "name": "python",
   "nbconvert_exporter": "python",
   "pygments_lexer": "ipython3",
   "version": "3.6.3"
  }
 },
 "nbformat": 4,
 "nbformat_minor": 2
}
